{
  "nbformat": 4,
  "nbformat_minor": 0,
  "metadata": {
    "colab": {
      "name": "chainer.ipynb",
      "provenance": [],
      "collapsed_sections": []
    },
    "kernelspec": {
      "name": "python3",
      "display_name": "Python 3"
    }
  },
  "cells": [
    {
      "cell_type": "code",
      "metadata": {
        "id": "Im-VgxL5blLd",
        "colab_type": "code",
        "outputId": "88d4150f-0a30-47f5-d405-e4f307d68d48",
        "colab": {
          "base_uri": "https://localhost:8080/",
          "height": 34
        }
      },
      "source": [
        "print(\"Hello World\")"
      ],
      "execution_count": 0,
      "outputs": [
        {
          "output_type": "stream",
          "text": [
            "Hello World\n"
          ],
          "name": "stdout"
        }
      ]
    },
    {
      "cell_type": "markdown",
      "metadata": {
        "id": "jJWDqaz5yUSl",
        "colab_type": "text"
      },
      "source": [
        "初めの一歩　"
      ]
    },
    {
      "cell_type": "code",
      "metadata": {
        "id": "UDY_H_yb0D1r",
        "colab_type": "code",
        "colab": {}
      },
      "source": [
        "print(1)"
      ],
      "execution_count": 0,
      "outputs": []
    },
    {
      "cell_type": "code",
      "metadata": {
        "id": "H8ckVYCS0BuD",
        "colab_type": "code",
        "colab": {}
      },
      "source": [
        "print(2)"
      ],
      "execution_count": 0,
      "outputs": []
    },
    {
      "cell_type": "code",
      "metadata": {
        "id": "ytlLGE3gb8Lo",
        "colab_type": "code",
        "outputId": "7cd37205-6ca3-4706-b7c4-8d35d0936a33",
        "colab": {
          "base_uri": "https://localhost:8080/",
          "height": 34
        }
      },
      "source": [
        "from google.colab import drive\n",
        "drive.mount('/content/drive')\n",
        "\n"
      ],
      "execution_count": 0,
      "outputs": [
        {
          "output_type": "stream",
          "text": [
            "Drive already mounted at /content/drive; to attempt to forcibly remount, call drive.mount(\"/content/drive\", force_remount=True).\n"
          ],
          "name": "stdout"
        }
      ]
    },
    {
      "cell_type": "markdown",
      "metadata": {
        "id": "TAhf5eDT0MAy",
        "colab_type": "text"
      },
      "source": [
        "*masheml*"
      ]
    },
    {
      "cell_type": "code",
      "metadata": {
        "id": "7-JwTXkh0ih6",
        "colab_type": "code",
        "colab": {}
      },
      "source": [
        "print(1)"
      ],
      "execution_count": 0,
      "outputs": []
    },
    {
      "cell_type": "code",
      "metadata": {
        "id": "_Ym8uyly1IKr",
        "colab_type": "code",
        "colab": {}
      },
      "source": [
        "# Stop separation is not good"
      ],
      "execution_count": 0,
      "outputs": []
    },
    {
      "cell_type": "code",
      "metadata": {
        "id": "KFY0SP051XS5",
        "colab_type": "code",
        "colab": {}
      },
      "source": [
        "a=1"
      ],
      "execution_count": 0,
      "outputs": []
    },
    {
      "cell_type": "code",
      "metadata": {
        "id": "i-dfxu4C335i",
        "colab_type": "code",
        "outputId": "0f4f5f25-1a94-4613-9fd9-c15100b242ff",
        "colab": {
          "base_uri": "https://localhost:8080/",
          "height": 34
        }
      },
      "source": [
        "a"
      ],
      "execution_count": 0,
      "outputs": [
        {
          "output_type": "execute_result",
          "data": {
            "text/plain": [
              "1"
            ]
          },
          "metadata": {
            "tags": []
          },
          "execution_count": 13
        }
      ]
    },
    {
      "cell_type": "code",
      "metadata": {
        "id": "s7LDRpYk382C",
        "colab_type": "code",
        "colab": {}
      },
      "source": [
        "# 組み込み関数を用いることも可能"
      ],
      "execution_count": 0,
      "outputs": []
    },
    {
      "cell_type": "code",
      "metadata": {
        "id": "RY8jM3Id4HGa",
        "colab_type": "code",
        "outputId": "aae3d074-847d-4ac7-c498-a488974cba26",
        "colab": {
          "base_uri": "https://localhost:8080/",
          "height": 34
        }
      },
      "source": [
        "print(a)"
      ],
      "execution_count": 0,
      "outputs": [
        {
          "output_type": "stream",
          "text": [
            "1\n"
          ],
          "name": "stdout"
        }
      ]
    },
    {
      "cell_type": "markdown",
      "metadata": {
        "id": "IPGo6pFq4zYw",
        "colab_type": "text"
      },
      "source": [
        "組み込み関数　print(),type()"
      ]
    },
    {
      "cell_type": "code",
      "metadata": {
        "id": "ZYM7NDmO49xb",
        "colab_type": "code",
        "outputId": "7f0d8670-61f5-4ff9-c96a-f4db61c3f264",
        "colab": {
          "base_uri": "https://localhost:8080/",
          "height": 34
        }
      },
      "source": [
        "type(a)"
      ],
      "execution_count": 0,
      "outputs": [
        {
          "output_type": "execute_result",
          "data": {
            "text/plain": [
              "int"
            ]
          },
          "metadata": {
            "tags": []
          },
          "execution_count": 17
        }
      ]
    },
    {
      "cell_type": "code",
      "metadata": {
        "id": "OVU04o405Sbg",
        "colab_type": "code",
        "outputId": "0663d783-1b06-4675-c925-3ba9ffc9fd18",
        "colab": {
          "base_uri": "https://localhost:8080/",
          "height": 34
        }
      },
      "source": [
        "type(0.0)"
      ],
      "execution_count": 0,
      "outputs": [
        {
          "output_type": "execute_result",
          "data": {
            "text/plain": [
              "float"
            ]
          },
          "metadata": {
            "tags": []
          },
          "execution_count": 18
        }
      ]
    },
    {
      "cell_type": "code",
      "metadata": {
        "id": "9HxIpOkc5byT",
        "colab_type": "code",
        "outputId": "f06b0f92-af2d-44cb-90c8-c147c01cb3a8",
        "colab": {
          "base_uri": "https://localhost:8080/",
          "height": 34
        }
      },
      "source": [
        "type(.0)"
      ],
      "execution_count": 0,
      "outputs": [
        {
          "output_type": "execute_result",
          "data": {
            "text/plain": [
              "float"
            ]
          },
          "metadata": {
            "tags": []
          },
          "execution_count": 19
        }
      ]
    },
    {
      "cell_type": "code",
      "metadata": {
        "id": "vovVtBt95gCx",
        "colab_type": "code",
        "outputId": "4ad561c0-b812-449d-f011-ffae25183212",
        "colab": {
          "base_uri": "https://localhost:8080/",
          "height": 34
        }
      },
      "source": [
        "type(0.)"
      ],
      "execution_count": 0,
      "outputs": [
        {
          "output_type": "execute_result",
          "data": {
            "text/plain": [
              "float"
            ]
          },
          "metadata": {
            "tags": []
          },
          "execution_count": 20
        }
      ]
    },
    {
      "cell_type": "code",
      "metadata": {
        "id": "4HtjqjM052o4",
        "colab_type": "code",
        "outputId": "7214c0d6-77d3-4e0b-de19-3998aa46393d",
        "colab": {
          "base_uri": "https://localhost:8080/",
          "height": 34
        }
      },
      "source": [
        "type(.5)"
      ],
      "execution_count": 0,
      "outputs": [
        {
          "output_type": "execute_result",
          "data": {
            "text/plain": [
              "float"
            ]
          },
          "metadata": {
            "tags": []
          },
          "execution_count": 21
        }
      ]
    },
    {
      "cell_type": "code",
      "metadata": {
        "id": "sT3lcMkD53EJ",
        "colab_type": "code",
        "outputId": "09b1f9ad-af0a-46eb-ee2a-8cf2ef23b7ef",
        "colab": {
          "base_uri": "https://localhost:8080/",
          "height": 34
        }
      },
      "source": [
        "print(.5)"
      ],
      "execution_count": 0,
      "outputs": [
        {
          "output_type": "stream",
          "text": [
            "0.5\n"
          ],
          "name": "stdout"
        }
      ]
    },
    {
      "cell_type": "code",
      "metadata": {
        "id": "6KBU-zYC6QKs",
        "colab_type": "code",
        "colab": {}
      },
      "source": [
        "a,b,c=1,2,3"
      ],
      "execution_count": 0,
      "outputs": []
    },
    {
      "cell_type": "code",
      "metadata": {
        "id": "wimcKXHW6Vf2",
        "colab_type": "code",
        "colab": {}
      },
      "source": [
        "print(a,b,c)"
      ],
      "execution_count": 0,
      "outputs": []
    },
    {
      "cell_type": "markdown",
      "metadata": {
        "id": "Oqduj9Wh9lgf",
        "colab_type": "text"
      },
      "source": [
        "**エスケープシーケンス**"
      ]
    },
    {
      "cell_type": "code",
      "metadata": {
        "id": "BjK5yNUa9LCR",
        "colab_type": "code",
        "colab": {}
      },
      "source": [
        "d=\"Hello\\nWorld\""
      ],
      "execution_count": 0,
      "outputs": []
    },
    {
      "cell_type": "code",
      "metadata": {
        "id": "q46696p39fiU",
        "colab_type": "code",
        "outputId": "e3208a64-c445-4d24-d7b4-e19469262d4f",
        "colab": {
          "base_uri": "https://localhost:8080/",
          "height": 34
        }
      },
      "source": [
        "d"
      ],
      "execution_count": 0,
      "outputs": [
        {
          "output_type": "execute_result",
          "data": {
            "text/plain": [
              "'Hello\\nWorld'"
            ]
          },
          "metadata": {
            "tags": []
          },
          "execution_count": 28
        }
      ]
    },
    {
      "cell_type": "code",
      "metadata": {
        "id": "6Nftpxoi9Zos",
        "colab_type": "code",
        "outputId": "d9f60df9-2a05-4371-b7da-0886c6ffe48e",
        "colab": {
          "base_uri": "https://localhost:8080/",
          "height": 51
        }
      },
      "source": [
        "print(d)"
      ],
      "execution_count": 0,
      "outputs": [
        {
          "output_type": "stream",
          "text": [
            "Hello\n",
            "World\n"
          ],
          "name": "stdout"
        }
      ]
    }
  ]
}